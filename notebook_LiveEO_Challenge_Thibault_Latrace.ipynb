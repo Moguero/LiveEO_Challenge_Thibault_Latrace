{
 "cells": [
  {
   "cell_type": "markdown",
   "metadata": {},
   "source": [
    "# LiveEO Data Science Challenge - Thibault Latrace"
   ]
  },
  {
   "cell_type": "markdown",
   "metadata": {},
   "source": [
    "Import of the libraries and the tools that will be used during the whole study"
   ]
  },
  {
   "cell_type": "code",
   "execution_count": 1,
   "metadata": {},
   "outputs": [],
   "source": [
    "import rasterio\n",
    "import matplotlib.pyplot as plt\n",
    "import numpy as np\n",
    "import pandas as pd\n",
    "import os\n",
    "import scikitplot as skplt\n",
    "\n",
    "from sklearn.ensemble import RandomForestClassifier\n",
    "from sklearn.model_selection import train_test_split\n",
    "from sklearn.metrics import confusion_matrix, classification_report\n",
    "# from sklearn.model_selection import cross_val_score"
   ]
  },
  {
   "cell_type": "markdown",
   "metadata": {},
   "source": [
    "Exploration of the labeled dataset metadata :"
   ]
  },
  {
   "cell_type": "code",
   "execution_count": 27,
   "metadata": {},
   "outputs": [
    {
     "name": "stdout",
     "output_type": "stream",
     "text": [
      "{'driver': 'GTiff', 'dtype': 'uint32', 'nodata': 4294967295.0, 'width': 10980, 'height': 10980, 'count': 2, 'crs': CRS.from_epsg(32617), 'transform': Affine(10.0, 0.0, 300000.0,\n",
      "       0.0, -10.0, 4400040.0)}\n"
     ]
    }
   ],
   "source": [
    "dataset = rasterio.open('rasterize_on_sentinel_2_labelled_17SLD.tif')\n",
    "\n",
    "print(dataset.meta)\n",
    "\n",
    "# Outputs :\n",
    "\n",
    "# crs : EPSG 32617 --> referencing the UTM zone 17N\n",
    "# shape : (10980, 10980)\n",
    "# dtype : uint32\n",
    "# number of bands : 2 --> only the first one will be used"
   ]
  },
  {
   "cell_type": "markdown",
   "metadata": {},
   "source": [
    "Visualization of the dataset :"
   ]
  },
  {
   "cell_type": "code",
   "execution_count": 28,
   "metadata": {},
   "outputs": [
    {
     "data": {
      "text/plain": [
       "<matplotlib.image.AxesImage at 0x227a591b088>"
      ]
     },
     "execution_count": 28,
     "metadata": {},
     "output_type": "execute_result"
    },
    {
     "data": {
      "image/png": "[encoded data removed]",
      "text/plain": [
       "<Figure size 432x288 with 1 Axes>"
      ]
     },
     "metadata": {
      "needs_background": "light"
     },
     "output_type": "display_data"
    }
   ],
   "source": [
    "labeled_band = dataset.read(1)\n",
    "\n",
    "plt.imshow(labeled_band)\n",
    "\n",
    "# It seems like a satellite image of islands\n",
    "\n",
    "# TODO : translate the coordinates of the TIF file into Mercator coordinates to visualize it on Google"
   ]
  },
  {
   "cell_type": "markdown",
   "metadata": {},
   "source": [
    "Transformation of the labelled band into a DataFrame in order to ease the manipulation:"
   ]
  },
  {
   "cell_type": "code",
   "execution_count": 29,
   "metadata": {},
   "outputs": [],
   "source": [
    "ravelled_label_band = labeled_band.ravel()\n",
    "\n",
    "label_band_df = pd.DataFrame(ravelled_label_band)\n",
    "\n",
    "label_band_df = label_band_df.replace(4294967295, np.nan)\n",
    "\n",
    "previous_label_band_size = label_band_df.shape"
   ]
  },
  {
   "cell_type": "markdown",
   "metadata": {},
   "source": [
    "Drop of the label nodata values :"
   ]
  },
  {
   "cell_type": "code",
   "execution_count": 30,
   "metadata": {},
   "outputs": [
    {
     "name": "stdout",
     "output_type": "stream",
     "text": [
      "369.37415553737696\n"
     ]
    }
   ],
   "source": [
    "reduced_label_band_df = label_band_df.dropna().rename(columns = {0: 'label'})\n",
    "\n",
    "reduced_label_band_df['label'] = reduced_label_band_df['label'].astype(int)\n",
    "\n",
    "new_label_band_size = reduced_label_band_df.shape\n",
    "\n",
    "print(previous_label_band_size[0]/new_label_band_size[0])\n",
    "\n",
    "# Output : 369.37415553737696\n",
    "\n",
    "# We just divided by almost 400 the size of our dataset !!!\n",
    "# It will be a lot more convenient to work with this size-reduced data for the machine learning process"
   ]
  },
  {
   "cell_type": "markdown",
   "metadata": {},
   "source": [
    "Concatenation of the labeled layer and the first band of the dataset, by projecting the band where the labeled data is not null : "
   ]
  },
  {
   "cell_type": "code",
   "execution_count": 31,
   "metadata": {
    "scrolled": true
   },
   "outputs": [
    {
     "name": "stdout",
     "output_type": "stream",
     "text": [
      "           label  AOT\n",
      "350913         3   69\n",
      "354514         0   70\n",
      "354515         0   70\n",
      "354516         0   70\n",
      "354517         0   70\n",
      "...          ...  ...\n",
      "120332403      4   70\n",
      "120409747      3   70\n",
      "120420734      3   70\n",
      "120464649      3   70\n",
      "120519538      3   70\n",
      "\n",
      "[326391 rows x 2 columns]\n",
      "           label  AOT   B01\n",
      "350913         3   69   360\n",
      "354514         0   70  2347\n",
      "354515         0   70  2347\n",
      "354516         0   70  3878\n",
      "354517         0   70  3878\n",
      "...          ...  ...   ...\n",
      "120332403      4   70   264\n",
      "120409747      3   70   589\n",
      "120420734      3   70   760\n",
      "120464649      3   70   768\n",
      "120519538      3   70   442\n",
      "\n",
      "[326391 rows x 3 columns]\n",
      "           label  AOT   B01   B02\n",
      "350913         3   69   360   391\n",
      "354514         0   70  2347  2302\n",
      "354515         0   70  2347  4328\n",
      "354516         0   70  3878  4316\n",
      "354517         0   70  3878  4460\n",
      "...          ...  ...   ...   ...\n",
      "120332403      4   70   264   236\n",
      "120409747      3   70   589   322\n",
      "120420734      3   70   760   713\n",
      "120464649      3   70   768   517\n",
      "120519538      3   70   442   329\n",
      "\n",
      "[326391 rows x 4 columns]\n",
      "           label  AOT   B01   B02   B03\n",
      "350913         3   69   360   391   640\n",
      "354514         0   70  2347  2302  2674\n",
      "354515         0   70  2347  4328  4272\n",
      "354516         0   70  3878  4316  4564\n",
      "354517         0   70  3878  4460  4400\n",
      "...          ...  ...   ...   ...   ...\n",
      "120332403      4   70   264   236   466\n",
      "120409747      3   70   589   322   462\n",
      "120420734      3   70   760   713   939\n",
      "120464649      3   70   768   517   576\n",
      "120519538      3   70   442   329   530\n",
      "\n",
      "[326391 rows x 5 columns]\n",
      "           label  AOT   B01   B02   B03   B04\n",
      "350913         3   69   360   391   640   735\n",
      "354514         0   70  2347  2302  2674  2778\n",
      "354515         0   70  2347  4328  4272  4220\n",
      "354516         0   70  3878  4316  4564  4728\n",
      "354517         0   70  3878  4460  4400  4792\n",
      "...          ...  ...   ...   ...   ...   ...\n",
      "120332403      4   70   264   236   466   263\n",
      "120409747      3   70   589   322   462   473\n",
      "120420734      3   70   760   713   939   991\n",
      "120464649      3   70   768   517   576   686\n",
      "120519538      3   70   442   329   530   438\n",
      "\n",
      "[326391 rows x 6 columns]\n",
      "           label  AOT   B01   B02   B03   B04   B05\n",
      "350913         3   69   360   391   640   735  1274\n",
      "354514         0   70  2347  2302  2674  2778  3944\n",
      "354515         0   70  2347  4328  4272  4220  3944\n",
      "354516         0   70  3878  4316  4564  4728  5445\n",
      "354517         0   70  3878  4460  4400  4792  5445\n",
      "...          ...  ...   ...   ...   ...   ...   ...\n",
      "120332403      4   70   264   236   466   263   702\n",
      "120409747      3   70   589   322   462   473  1077\n",
      "120420734      3   70   760   713   939   991  1288\n",
      "120464649      3   70   768   517   576   686  1084\n",
      "120519538      3   70   442   329   530   438   949\n",
      "\n",
      "[326391 rows x 7 columns]\n",
      "           label  AOT   B01   B02   B03   B04   B05   B06\n",
      "350913         3   69   360   391   640   735  1274  1954\n",
      "354514         0   70  2347  2302  2674  2778  3944  4185\n",
      "354515         0   70  2347  4328  4272  4220  3944  4185\n",
      "354516         0   70  3878  4316  4564  4728  5445  5242\n",
      "354517         0   70  3878  4460  4400  4792  5445  5242\n",
      "...          ...  ...   ...   ...   ...   ...   ...   ...\n",
      "120332403      4   70   264   236   466   263   702  2844\n",
      "120409747      3   70   589   322   462   473  1077  1570\n",
      "120420734      3   70   760   713   939   991  1288  1654\n",
      "120464649      3   70   768   517   576   686  1084  1603\n",
      "120519538      3   70   442   329   530   438   949  1697\n",
      "\n",
      "[326391 rows x 8 columns]\n",
      "           label  AOT   B01   B02   B03   B04   B05   B06   B07\n",
      "350913         3   69   360   391   640   735  1274  1954  2300\n",
      "354514         0   70  2347  2302  2674  2778  3944  4185  3975\n",
      "354515         0   70  2347  4328  4272  4220  3944  4185  3975\n",
      "354516         0   70  3878  4316  4564  4728  5445  5242  5489\n",
      "354517         0   70  3878  4460  4400  4792  5445  5242  5489\n",
      "...          ...  ...   ...   ...   ...   ...   ...   ...   ...\n",
      "120332403      4   70   264   236   466   263   702  2844  3513\n",
      "120409747      3   70   589   322   462   473  1077  1570  1836\n",
      "120420734      3   70   760   713   939   991  1288  1654  1832\n",
      "120464649      3   70   768   517   576   686  1084  1603  1857\n",
      "120519538      3   70   442   329   530   438   949  1697  1891\n",
      "\n",
      "[326391 rows x 9 columns]\n",
      "           label  AOT   B01   B02   B03   B04   B05   B06   B07   B08\n",
      "350913         3   69   360   391   640   735  1274  1954  2300  2374\n",
      "354514         0   70  2347  2302  2674  2778  3944  4185  3975  2784\n",
      "354515         0   70  2347  4328  4272  4220  3944  4185  3975  4220\n",
      "354516         0   70  3878  4316  4564  4728  5445  5242  5489  4500\n",
      "354517         0   70  3878  4460  4400  4792  5445  5242  5489  4600\n",
      "...          ...  ...   ...   ...   ...   ...   ...   ...   ...   ...\n",
      "120332403      4   70   264   236   466   263   702  2844  3513  3340\n",
      "120409747      3   70   589   322   462   473  1077  1570  1836  1596\n",
      "120420734      3   70   760   713   939   991  1288  1654  1832  1780\n",
      "120464649      3   70   768   517   576   686  1084  1603  1857  2064\n",
      "120519538      3   70   442   329   530   438   949  1697  1891  1992\n",
      "\n",
      "[326391 rows x 10 columns]\n",
      "           label  AOT   B01   B02   B03   B04   B05   B06   B07   B08   B09\n",
      "350913         3   69   360   391   640   735  1274  1954  2300  2374  2620\n",
      "354514         0   70  2347  2302  2674  2778  3944  4185  3975  2784  2979\n",
      "354515         0   70  2347  4328  4272  4220  3944  4185  3975  4220  2979\n",
      "354516         0   70  3878  4316  4564  4728  5445  5242  5489  4500  3836\n",
      "354517         0   70  3878  4460  4400  4792  5445  5242  5489  4600  3836\n",
      "...          ...  ...   ...   ...   ...   ...   ...   ...   ...   ...   ...\n",
      "120332403      4   70   264   236   466   263   702  2844  3513  3340  3834\n",
      "120409747      3   70   589   322   462   473  1077  1570  1836  1596  1835\n",
      "120420734      3   70   760   713   939   991  1288  1654  1832  1780  1812\n",
      "120464649      3   70   768   517   576   686  1084  1603  1857  2064  2022\n",
      "120519538      3   70   442   329   530   438   949  1697  1891  1992  1924\n",
      "\n",
      "[326391 rows x 11 columns]\n",
      "           label  AOT   B01   B02   B03   B04   B05   B06   B07   B08   B09  \\\n",
      "350913         3   69   360   391   640   735  1274  1954  2300  2374  2620   \n",
      "354514         0   70  2347  2302  2674  2778  3944  4185  3975  2784  2979   \n",
      "354515         0   70  2347  4328  4272  4220  3944  4185  3975  4220  2979   \n",
      "354516         0   70  3878  4316  4564  4728  5445  5242  5489  4500  3836   \n",
      "354517         0   70  3878  4460  4400  4792  5445  5242  5489  4600  3836   \n",
      "...          ...  ...   ...   ...   ...   ...   ...   ...   ...   ...   ...   \n",
      "120332403      4   70   264   236   466   263   702  2844  3513  3340  3834   \n",
      "120409747      3   70   589   322   462   473  1077  1570  1836  1596  1835   \n",
      "120420734      3   70   760   713   939   991  1288  1654  1832  1780  1812   \n",
      "120464649      3   70   768   517   576   686  1084  1603  1857  2064  2022   \n",
      "120519538      3   70   442   329   530   438   949  1697  1891  1992  1924   \n",
      "\n",
      "            B11  \n",
      "350913     2853  \n",
      "354514     3758  \n",
      "354515     3758  \n",
      "354516     4589  \n",
      "354517     4589  \n",
      "...         ...  \n",
      "120332403  1826  \n",
      "120409747  1815  \n",
      "120420734  1817  \n",
      "120464649  2193  \n",
      "120519538  1891  \n",
      "\n",
      "[326391 rows x 12 columns]\n",
      "           label  AOT   B01   B02   B03   B04   B05   B06   B07   B08   B09  \\\n",
      "350913         3   69   360   391   640   735  1274  1954  2300  2374  2620   \n",
      "354514         0   70  2347  2302  2674  2778  3944  4185  3975  2784  2979   \n",
      "354515         0   70  2347  4328  4272  4220  3944  4185  3975  4220  2979   \n",
      "354516         0   70  3878  4316  4564  4728  5445  5242  5489  4500  3836   \n",
      "354517         0   70  3878  4460  4400  4792  5445  5242  5489  4600  3836   \n",
      "...          ...  ...   ...   ...   ...   ...   ...   ...   ...   ...   ...   \n",
      "120332403      4   70   264   236   466   263   702  2844  3513  3340  3834   \n",
      "120409747      3   70   589   322   462   473  1077  1570  1836  1596  1835   \n",
      "120420734      3   70   760   713   939   991  1288  1654  1832  1780  1812   \n",
      "120464649      3   70   768   517   576   686  1084  1603  1857  2064  2022   \n",
      "120519538      3   70   442   329   530   438   949  1697  1891  1992  1924   \n",
      "\n",
      "            B11   B12  \n",
      "350913     2853  1803  \n",
      "354514     3758  2708  \n",
      "354515     3758  2708  \n",
      "354516     4589  2917  \n",
      "354517     4589  2917  \n",
      "...         ...   ...  \n",
      "120332403  1826   835  \n",
      "120409747  1815  1329  \n",
      "120420734  1817  1621  \n",
      "120464649  2193  1752  \n",
      "120519538  1891  1408  \n",
      "\n",
      "[326391 rows x 13 columns]\n"
     ]
    },
    {
     "name": "stdout",
     "output_type": "stream",
     "text": [
      "           label  AOT   B01   B02   B03   B04   B05   B06   B07   B08   B09  \\\n",
      "350913         3   69   360   391   640   735  1274  1954  2300  2374  2620   \n",
      "354514         0   70  2347  2302  2674  2778  3944  4185  3975  2784  2979   \n",
      "354515         0   70  2347  4328  4272  4220  3944  4185  3975  4220  2979   \n",
      "354516         0   70  3878  4316  4564  4728  5445  5242  5489  4500  3836   \n",
      "354517         0   70  3878  4460  4400  4792  5445  5242  5489  4600  3836   \n",
      "...          ...  ...   ...   ...   ...   ...   ...   ...   ...   ...   ...   \n",
      "120332403      4   70   264   236   466   263   702  2844  3513  3340  3834   \n",
      "120409747      3   70   589   322   462   473  1077  1570  1836  1596  1835   \n",
      "120420734      3   70   760   713   939   991  1288  1654  1832  1780  1812   \n",
      "120464649      3   70   768   517   576   686  1084  1603  1857  2064  2022   \n",
      "120519538      3   70   442   329   530   438   949  1697  1891  1992  1924   \n",
      "\n",
      "            B11   B12   B8A  \n",
      "350913     2853  1803  2566  \n",
      "354514     3758  2708  3884  \n",
      "354515     3758  2708  3884  \n",
      "354516     4589  2917  5310  \n",
      "354517     4589  2917  5310  \n",
      "...         ...   ...   ...  \n",
      "120332403  1826   835  3809  \n",
      "120409747  1815  1329  1947  \n",
      "120420734  1817  1621  1801  \n",
      "120464649  2193  1752  1983  \n",
      "120519538  1891  1408  2117  \n",
      "\n",
      "[326391 rows x 14 columns]\n",
      "           label  AOT   B01   B02   B03   B04   B05   B06   B07   B08   B09  \\\n",
      "350913         3   69   360   391   640   735  1274  1954  2300  2374  2620   \n",
      "354514         0   70  2347  2302  2674  2778  3944  4185  3975  2784  2979   \n",
      "354515         0   70  2347  4328  4272  4220  3944  4185  3975  4220  2979   \n",
      "354516         0   70  3878  4316  4564  4728  5445  5242  5489  4500  3836   \n",
      "354517         0   70  3878  4460  4400  4792  5445  5242  5489  4600  3836   \n",
      "...          ...  ...   ...   ...   ...   ...   ...   ...   ...   ...   ...   \n",
      "120332403      4   70   264   236   466   263   702  2844  3513  3340  3834   \n",
      "120409747      3   70   589   322   462   473  1077  1570  1836  1596  1835   \n",
      "120420734      3   70   760   713   939   991  1288  1654  1832  1780  1812   \n",
      "120464649      3   70   768   517   576   686  1084  1603  1857  2064  2022   \n",
      "120519538      3   70   442   329   530   438   949  1697  1891  1992  1924   \n",
      "\n",
      "            B11   B12   B8A  SCL  \n",
      "350913     2853  1803  2566    4  \n",
      "354514     3758  2708  3884    9  \n",
      "354515     3758  2708  3884    9  \n",
      "354516     4589  2917  5310    9  \n",
      "354517     4589  2917  5310    9  \n",
      "...         ...   ...   ...  ...  \n",
      "120332403  1826   835  3809    4  \n",
      "120409747  1815  1329  1947    4  \n",
      "120420734  1817  1621  1801    5  \n",
      "120464649  2193  1752  1983    5  \n",
      "120519538  1891  1408  2117    4  \n",
      "\n",
      "[326391 rows x 15 columns]\n",
      "           label  AOT   B01   B02   B03   B04   B05   B06   B07   B08   B09  \\\n",
      "350913         3   69   360   391   640   735  1274  1954  2300  2374  2620   \n",
      "354514         0   70  2347  2302  2674  2778  3944  4185  3975  2784  2979   \n",
      "354515         0   70  2347  4328  4272  4220  3944  4185  3975  4220  2979   \n",
      "354516         0   70  3878  4316  4564  4728  5445  5242  5489  4500  3836   \n",
      "354517         0   70  3878  4460  4400  4792  5445  5242  5489  4600  3836   \n",
      "...          ...  ...   ...   ...   ...   ...   ...   ...   ...   ...   ...   \n",
      "120332403      4   70   264   236   466   263   702  2844  3513  3340  3834   \n",
      "120409747      3   70   589   322   462   473  1077  1570  1836  1596  1835   \n",
      "120420734      3   70   760   713   939   991  1288  1654  1832  1780  1812   \n",
      "120464649      3   70   768   517   576   686  1084  1603  1857  2064  2022   \n",
      "120519538      3   70   442   329   530   438   949  1697  1891  1992  1924   \n",
      "\n",
      "            B11   B12   B8A  SCL   WVP  \n",
      "350913     2853  1803  2566    4  2728  \n",
      "354514     3758  2708  3884    9  2241  \n",
      "354515     3758  2708  3884    9  2241  \n",
      "354516     4589  2917  5310    9  2518  \n",
      "354517     4589  2917  5310    9  2518  \n",
      "...         ...   ...   ...  ...   ...  \n",
      "120332403  1826   835  3809    4  2664  \n",
      "120409747  1815  1329  1947    4  2520  \n",
      "120420734  1817  1621  1801    5  2423  \n",
      "120464649  2193  1752  1983    5  2584  \n",
      "120519538  1891  1408  2117    4  2613  \n",
      "\n",
      "[326391 rows x 16 columns]\n"
     ]
    }
   ],
   "source": [
    "bands_folder_path = 'S2_17SLD_2019-09-15_masked_warped'\n",
    "\n",
    "band_paths = [os.path.join(bands_folder_path, my_file)\n",
    "              for my_file in os.listdir(bands_folder_path)\n",
    "              if os.path.isfile(os.path.join(bands_folder_path, my_file))]\n",
    "\n",
    "final_dataset_df = reduced_label_band_df\n",
    "for band_number in range(len(band_paths)):\n",
    "    with rasterio.open(band_paths[band_number]) as band_dataset:\n",
    "        band = band_dataset.read(1)\n",
    "        ravelled_band = band.ravel()\n",
    "        band_df = pd.DataFrame(ravelled_band).rename(columns = {0: '{}'.format(band_paths[band_number].split('\\\\')[1].split('_')[2])})\n",
    "        \n",
    "        final_dataset_df = pd.concat([final_dataset_df, band_df.reindex(final_dataset_df.index)], axis = 1)\n",
    "        band_dataset.close()\n",
    "print(final_dataset_df)\n",
    "\n",
    "# TODO : look for the signification of each band"
   ]
  },
  {
   "cell_type": "markdown",
   "metadata": {},
   "source": [
    "Reindexing and add of a label mapping in order to improve lisibility of the dataset :"
   ]
  },
  {
   "cell_type": "code",
   "execution_count": 32,
   "metadata": {},
   "outputs": [
    {
     "data": {
      "text/html": [
       "<div>\n",
       "<style scoped>\n",
       "    .dataframe tbody tr th:only-of-type {\n",
       "        vertical-align: middle;\n",
       "    }\n",
       "\n",
       "    .dataframe tbody tr th {\n",
       "        vertical-align: top;\n",
       "    }\n",
       "\n",
       "    .dataframe thead th {\n",
       "        text-align: right;\n",
       "    }\n",
       "</style>\n",
       "<table border=\"1\" class=\"dataframe\">\n",
       "  <thead>\n",
       "    <tr style=\"text-align: right;\">\n",
       "      <th></th>\n",
       "      <th>previous_index</th>\n",
       "      <th>label</th>\n",
       "      <th>label_meaning</th>\n",
       "      <th>AOT</th>\n",
       "      <th>B01</th>\n",
       "      <th>B02</th>\n",
       "      <th>B03</th>\n",
       "      <th>B04</th>\n",
       "      <th>B05</th>\n",
       "      <th>B06</th>\n",
       "      <th>B07</th>\n",
       "      <th>B08</th>\n",
       "      <th>B09</th>\n",
       "      <th>B11</th>\n",
       "      <th>B12</th>\n",
       "      <th>B8A</th>\n",
       "      <th>SCL</th>\n",
       "      <th>WVP</th>\n",
       "    </tr>\n",
       "  </thead>\n",
       "  <tbody>\n",
       "    <tr>\n",
       "      <th>0</th>\n",
       "      <td>350913</td>\n",
       "      <td>3</td>\n",
       "      <td>single tree</td>\n",
       "      <td>69</td>\n",
       "      <td>360</td>\n",
       "      <td>391</td>\n",
       "      <td>640</td>\n",
       "      <td>735</td>\n",
       "      <td>1274</td>\n",
       "      <td>1954</td>\n",
       "      <td>2300</td>\n",
       "      <td>2374</td>\n",
       "      <td>2620</td>\n",
       "      <td>2853</td>\n",
       "      <td>1803</td>\n",
       "      <td>2566</td>\n",
       "      <td>4</td>\n",
       "      <td>2728</td>\n",
       "    </tr>\n",
       "    <tr>\n",
       "      <th>1</th>\n",
       "      <td>354514</td>\n",
       "      <td>0</td>\n",
       "      <td>urban</td>\n",
       "      <td>70</td>\n",
       "      <td>2347</td>\n",
       "      <td>2302</td>\n",
       "      <td>2674</td>\n",
       "      <td>2778</td>\n",
       "      <td>3944</td>\n",
       "      <td>4185</td>\n",
       "      <td>3975</td>\n",
       "      <td>2784</td>\n",
       "      <td>2979</td>\n",
       "      <td>3758</td>\n",
       "      <td>2708</td>\n",
       "      <td>3884</td>\n",
       "      <td>9</td>\n",
       "      <td>2241</td>\n",
       "    </tr>\n",
       "    <tr>\n",
       "      <th>2</th>\n",
       "      <td>354515</td>\n",
       "      <td>0</td>\n",
       "      <td>urban</td>\n",
       "      <td>70</td>\n",
       "      <td>2347</td>\n",
       "      <td>4328</td>\n",
       "      <td>4272</td>\n",
       "      <td>4220</td>\n",
       "      <td>3944</td>\n",
       "      <td>4185</td>\n",
       "      <td>3975</td>\n",
       "      <td>4220</td>\n",
       "      <td>2979</td>\n",
       "      <td>3758</td>\n",
       "      <td>2708</td>\n",
       "      <td>3884</td>\n",
       "      <td>9</td>\n",
       "      <td>2241</td>\n",
       "    </tr>\n",
       "    <tr>\n",
       "      <th>3</th>\n",
       "      <td>354516</td>\n",
       "      <td>0</td>\n",
       "      <td>urban</td>\n",
       "      <td>70</td>\n",
       "      <td>3878</td>\n",
       "      <td>4316</td>\n",
       "      <td>4564</td>\n",
       "      <td>4728</td>\n",
       "      <td>5445</td>\n",
       "      <td>5242</td>\n",
       "      <td>5489</td>\n",
       "      <td>4500</td>\n",
       "      <td>3836</td>\n",
       "      <td>4589</td>\n",
       "      <td>2917</td>\n",
       "      <td>5310</td>\n",
       "      <td>9</td>\n",
       "      <td>2518</td>\n",
       "    </tr>\n",
       "    <tr>\n",
       "      <th>4</th>\n",
       "      <td>354517</td>\n",
       "      <td>0</td>\n",
       "      <td>urban</td>\n",
       "      <td>70</td>\n",
       "      <td>3878</td>\n",
       "      <td>4460</td>\n",
       "      <td>4400</td>\n",
       "      <td>4792</td>\n",
       "      <td>5445</td>\n",
       "      <td>5242</td>\n",
       "      <td>5489</td>\n",
       "      <td>4600</td>\n",
       "      <td>3836</td>\n",
       "      <td>4589</td>\n",
       "      <td>2917</td>\n",
       "      <td>5310</td>\n",
       "      <td>9</td>\n",
       "      <td>2518</td>\n",
       "    </tr>\n",
       "  </tbody>\n",
       "</table>\n",
       "</div>"
      ],
      "text/plain": [
       "   previous_index  label label_meaning  AOT   B01   B02   B03   B04   B05  \\\n",
       "0          350913      3   single tree   69   360   391   640   735  1274   \n",
       "1          354514      0         urban   70  2347  2302  2674  2778  3944   \n",
       "2          354515      0         urban   70  2347  4328  4272  4220  3944   \n",
       "3          354516      0         urban   70  3878  4316  4564  4728  5445   \n",
       "4          354517      0         urban   70  3878  4460  4400  4792  5445   \n",
       "\n",
       "    B06   B07   B08   B09   B11   B12   B8A  SCL   WVP  \n",
       "0  1954  2300  2374  2620  2853  1803  2566    4  2728  \n",
       "1  4185  3975  2784  2979  3758  2708  3884    9  2241  \n",
       "2  4185  3975  4220  2979  3758  2708  3884    9  2241  \n",
       "3  5242  5489  4500  3836  4589  2917  5310    9  2518  \n",
       "4  5242  5489  4600  3836  4589  2917  5310    9  2518  "
      ]
     },
     "execution_count": 32,
     "metadata": {},
     "output_type": "execute_result"
    }
   ],
   "source": [
    "#insertion of the label_meaning column\n",
    "final_dataset_df.insert(1, 'label_meaning', final_dataset_df['label'])\n",
    "label_mapping = {0: 'urban', 1: 'treerow', 2: 'forest', 3: 'single tree', 4: 'agriculture', 5: 'grassland', 6: 'water'}\n",
    "final_dataset_df['label_meaning'] = final_dataset_df['label_meaning'].replace(label_mapping)\n",
    "\n",
    "final_dataset_df = final_dataset_df.reset_index().rename(columns = {'index': 'previous_index'})\n",
    "final_dataset_df.head()"
   ]
  },
  {
   "cell_type": "markdown",
   "metadata": {},
   "source": [
    "Storing of the final dataset into a csv :"
   ]
  },
  {
   "cell_type": "code",
   "execution_count": 33,
   "metadata": {},
   "outputs": [],
   "source": [
    "final_dataset_df.to_csv('final_dataset.csv',  index = False)"
   ]
  },
  {
   "cell_type": "markdown",
   "metadata": {},
   "source": [
    "CHECKPOINT : To this point, we don't need to execute the code above anymore : the dataset is definitly stored in the file 'final_dataset.csv'."
   ]
  },
  {
   "cell_type": "markdown",
   "metadata": {},
   "source": [
    "We split the dataset into train and test data : 80% for the training data and 20% for the testing one.\n",
    "\n",
    "Furthermore, as long as we want to predict a class (survived or not), we will use a Classifier model. It will be here a RandomForestClassifier."
   ]
  },
  {
   "cell_type": "code",
   "execution_count": 54,
   "metadata": {},
   "outputs": [],
   "source": [
    "final_dataset_df = pd.read_csv('final_dataset.csv')\n",
    "final_dataset_df = final_dataset_df.drop(columns = 'label_meaning')\n",
    "\n",
    "# split of the dataset\n",
    "prediction_target = final_dataset_df['label']\n",
    "X = final_dataset_df.drop(columns = ['label', 'previous_index'])\n",
    "train_data, test_data, train_prediction_target, test_prediction_target = train_test_split(X, prediction_target, train_size = 0.8, random_state = 1)\n",
    "\n",
    "# classifier training\n",
    "model = RandomForestClassifier(random_state = 1)\n",
    "model.fit(train_data, train_prediction_target)\n",
    "predictions = model.predict(test_data)\n",
    "\n",
    "# evaluation of the classifier\n",
    "confusion_mtrx_1 = confusion_matrix(test_prediction_target, predictions)\n",
    "class_report_1 = classification_report(test_prediction_target, predictions, zero_division = True)"
   ]
  },
  {
   "cell_type": "code",
   "execution_count": 56,
   "metadata": {
    "scrolled": true
   },
   "outputs": [
    {
     "name": "stdout",
     "output_type": "stream",
     "text": [
      "              precision    recall  f1-score   support\n",
      "\n",
      "           0       0.99      0.99      0.99      3795\n",
      "           1       0.93      0.78      0.85      1390\n",
      "           2       0.99      1.00      0.99     30760\n",
      "           3       1.00      0.00      0.00        21\n",
      "           4       0.99      1.00      0.99     18896\n",
      "           5       0.98      0.93      0.95      1496\n",
      "           6       1.00      1.00      1.00      8921\n",
      "\n",
      "    accuracy                           0.99     65279\n",
      "   macro avg       0.98      0.81      0.83     65279\n",
      "weighted avg       0.99      0.99      0.99     65279\n",
      "\n"
     ]
    },
    {
     "data": {
      "image/png": "[encoded data removed]",
      "text/plain": [
       "<Figure size 720x720 with 2 Axes>"
      ]
     },
     "metadata": {
      "needs_background": "light"
     },
     "output_type": "display_data"
    }
   ],
   "source": [
    "# smooth plot of the confusion matrix\n",
    "label_mapping = {0: 'urban', 1: 'treerow', 2: 'forest', 3: 'single tree', 4: 'agriculture', 5: 'grassland', 6: 'water'}\n",
    "skplt.metrics.plot_confusion_matrix(\n",
    "    test_prediction_target.replace(label_mapping), \n",
    "    pd.DataFrame(predictions).replace(label_mapping),\n",
    "    figsize = (10, 10),\n",
    "    title = 'Label confusion matrix',\n",
    "    x_tick_rotation = 45,\n",
    "    cmap = 'Greens')\n",
    "\n",
    "print(class_report_1)"
   ]
  },
  {
   "cell_type": "markdown",
   "metadata": {},
   "source": [
    "Improvement of the model :\n",
    "\n",
    "We squash the 3 RGB layers into a unique grayscale layer :"
   ]
  },
  {
   "cell_type": "code",
   "execution_count": null,
   "metadata": {},
   "outputs": [
    {
     "name": "stdout",
     "output_type": "stream",
     "text": [
      "        AOT   B01  grayscale   B05   B06   B07   B08   B09   B11   B12   B8A  \\\n",
      "0        69   360        640  1274  1954  2300  2374  2620  2853  1803  2566   \n",
      "1        70  2347       2662  3944  4185  3975  2784  2979  3758  2708  3884   \n",
      "2        70  2347       4262  3944  4185  3975  4220  2979  3758  2708  3884   \n",
      "3        70  3878       4584  5445  5242  5489  4500  3836  4589  2917  5310   \n",
      "4        70  3878       4524  5445  5242  5489  4600  3836  4589  2917  5310   \n",
      "...     ...   ...        ...   ...   ...   ...   ...   ...   ...   ...   ...   \n",
      "326386   70   264        379   702  2844  3513  3340  3834  1826   835  3809   \n",
      "326387   70   589        449  1077  1570  1836  1596  1835  1815  1329  1947   \n",
      "326388   70   760        929  1288  1654  1832  1780  1812  1817  1621  1801   \n",
      "326389   70   768        602  1084  1603  1857  2064  2022  2193  1752  1983   \n",
      "326390   70   442        480   949  1697  1891  1992  1924  1891  1408  2117   \n",
      "\n",
      "        SCL   WVP  \n",
      "0         4  2728  \n",
      "1         9  2241  \n",
      "2         9  2241  \n",
      "3         9  2518  \n",
      "4         9  2518  \n",
      "...     ...   ...  \n",
      "326386    4  2664  \n",
      "326387    4  2520  \n",
      "326388    5  2423  \n",
      "326389    5  2584  \n",
      "326390    4  2613  \n",
      "\n",
      "[326391 rows x 13 columns]\n"
     ]
    }
   ],
   "source": [
    "final_dataset_df = pd.read_csv('final_dataset.csv')\n",
    "final_dataset_df = final_dataset_df.drop(columns = 'label_meaning')\n",
    "\n",
    "# creation of the grayscale column\n",
    "# the weights are respectively for : red, green, blue\n",
    "# B02 = red, B03 = green, B04 = blue\n",
    "rgb_weights = [0.2989, 0.5870, 0.1140]\n",
    "rgb_df = pd.concat([final_dataset_df['B04'], final_dataset_df['B03'], final_dataset_df['B02']], axis = 1)\n",
    "grayscale_df = rgb_df.dot(rgb_weights)\n",
    "grayscale_df = grayscale_df.map(np.round).astype(int)\n",
    "final_dataset_df.insert(4, 'grayscale', grayscale_df)\n",
    "\n",
    "# split of the dataset\n",
    "prediction_target = final_dataset_df['label']\n",
    "X = final_dataset_df.drop(columns = ['label', 'previous_index', 'B02', 'B03', 'B04'])\n",
    "train_data, test_data, train_prediction_target, test_prediction_target = train_test_split(X, prediction_target, train_size = 0.8, random_state = 1)\n",
    "\n",
    "# classifier training\n",
    "model = RandomForestClassifier(random_state = 1)\n",
    "model.fit(train_data, train_prediction_target)\n",
    "predictions = model.predict(test_data)\n",
    "\n",
    "# evaluation of the classifier :\n",
    "confusion_mtrx_2 = confusion_matrix(test_prediction_target, predictions)\n",
    "class_report_2 = classification_report(test_prediction_target, predictions, zero_division = True)"
   ]
  },
  {
   "cell_type": "code",
   "execution_count": null,
   "metadata": {},
   "outputs": [],
   "source": [
    "# smooth plot of the confusion matrix\n",
    "label_mapping = {0: 'urban', 1: 'treerow', 2: 'forest', 3: 'single tree', 4: 'agriculture', 5: 'grassland', 6: 'water'}\n",
    "skplt.metrics.plot_confusion_matrix(\n",
    "    test_prediction_target.replace(label_mapping), \n",
    "    pd.DataFrame(predictions).replace(label_mapping),\n",
    "    figsize = (10, 10),\n",
    "    title = 'Label confusion matrix',\n",
    "    x_tick_rotation = 45,\n",
    "    cmap = 'Greens')\n",
    "\n",
    "print(class_report_2)"
   ]
  },
  {
   "cell_type": "code",
   "execution_count": 1,
   "metadata": {},
   "outputs": [],
   "source": [
    "# TODO : use seaborn module to do display the confusion matrix"
   ]
  },
  {
   "cell_type": "markdown",
   "metadata": {},
   "source": [
    "Test d'utilisation de mlflow"
   ]
  },
  {
   "cell_type": "code",
   "execution_count": 59,
   "metadata": {},
   "outputs": [],
   "source": [
    "import mlflow\n",
    "from mlflow import log_param, log_metric\n",
    "from random import random, randint"
   ]
  },
  {
   "cell_type": "code",
   "execution_count": 66,
   "metadata": {},
   "outputs": [],
   "source": [
    "mlflow.start_run()\n",
    "\n",
    "log_param(\"param1\", randint(0, 100))\n",
    "\n",
    "log_metric(\"foo\", random())\n",
    "log_metric(\"foo\", random() + 1)\n",
    "log_metric(\"foo\", random() + 2)\n",
    "\n",
    "if not os.path.exists(\"outputs\"):\n",
    "    os.makedirs(\"outputs\")\n",
    "with open(\"outputs/test.txt\", \"w\") as f:\n",
    "    f.write(\"hello world!\")\n",
    "\n",
    "log_artifacts(\"outputs\")\n",
    "\n",
    "mlflow.end_run()"
   ]
  }
 ],
 "metadata": {
  "kernelspec": {
   "display_name": "Python 3",
   "language": "python",
   "name": "python3"
  },
  "language_info": {
   "codemirror_mode": {
    "name": "ipython",
    "version": 3
   },
   "file_extension": ".py",
   "mimetype": "text/x-python",
   "name": "python",
   "nbconvert_exporter": "python",
   "pygments_lexer": "ipython3",
   "version": "3.7.6"
  }
 },
 "nbformat": 4,
 "nbformat_minor": 4
}
