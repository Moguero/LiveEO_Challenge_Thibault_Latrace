{
 "cells": [
  {
   "cell_type": "markdown",
   "metadata": {},
   "source": [
    "# LiveEO Data Science Challenge - Thibault Latrace"
   ]
  },
  {
   "cell_type": "markdown",
   "metadata": {},
   "source": [
    "This"
   ]
  },
  {
   "cell_type": "markdown",
   "metadata": {},
   "source": [
    "## I. Data exploration"
   ]
  },
  {
   "cell_type": "markdown",
   "metadata": {},
   "source": [
    "Import of the libraries and the tools that will be used during the whole study :"
   ]
  },
  {
   "cell_type": "code",
   "execution_count": 1,
   "metadata": {},
   "outputs": [],
   "source": [
    "import rasterio\n",
    "import matplotlib.pyplot as plt\n",
    "import folium\n",
    "import numpy as np\n",
    "import pandas as pd\n",
    "import os\n",
    "import scikitplot as skplt\n",
    "\n",
    "from pyproj import Proj, Transformer\n",
    "from sklearn.ensemble import RandomForestClassifier\n",
    "from sklearn.model_selection import train_test_split\n",
    "from sklearn.metrics import confusion_matrix, classification_report\n",
    "# from sklearn.model_selection import cross_val_score "
   ]
  },
  {
   "cell_type": "markdown",
   "metadata": {},
   "source": [
    "Exploration of the labeled dataset metadata :"
   ]
  },
  {
   "cell_type": "code",
   "execution_count": 2,
   "metadata": {
    "scrolled": true
   },
   "outputs": [
    {
     "name": "stdout",
     "output_type": "stream",
     "text": [
      "{'driver': 'GTiff', 'dtype': 'uint32', 'nodata': 4294967295.0, 'width': 10980, 'height': 10980, 'count': 2, 'crs': CRS.from_epsg(32617), 'transform': Affine(10.0, 0.0, 300000.0,\n",
      "       0.0, -10.0, 4400040.0)}\n",
      "EPSG:32617\n"
     ]
    }
   ],
   "source": [
    "dataset = rasterio.open('resources/rasterize_on_sentinel_2_labelled_17SLD.tif')\n",
    "\n",
    "print(dataset.meta)\n",
    "\n",
    "print(dataset.meta['crs'])\n",
    "\n",
    "# Outputs :\n",
    "\n",
    "# TODO : refacto cette partie pour afficher correctement le code\n",
    "\n",
    "# crs : EPSG 32617 --> referencing the UTM zone 17N\n",
    "# shape : (10980, 10980)\n",
    "# dtype : uint32\n",
    "# number of bands : 2 --> only the first one will be used"
   ]
  },
  {
   "cell_type": "markdown",
   "metadata": {},
   "source": [
    "Let's see what area this picture delimits :"
   ]
  },
  {
   "cell_type": "code",
   "execution_count": 3,
   "metadata": {},
   "outputs": [
    {
     "name": "stdout",
     "output_type": "stream",
     "text": [
      "('39.72680595264749', '-83.33363283055375') ('38.75625435854099', '-82.03810488537515')\n"
     ]
    }
   ],
   "source": [
    "# use of the metada affine transformation matrix to spot the spatial position of the upper left corner in the crs 32617\n",
    "previous_upper_left_corner_coords = dataset.transform * (0, 0)\n",
    "previous_lower_right_corner_coords = dataset.transform * (dataset.width, dataset.height)\n",
    "\n",
    "# transformer implementation to switch the crs to the classic WGS 84 CRS\n",
    "utm_zone_17N_crs = 32617\n",
    "WGS84_crs = 4326\n",
    "transformer = Transformer.from_crs(utm_zone_17N_crs, WGS84_crs)\n",
    "\n",
    "# top left and bottom right corner coordinates conversion\n",
    "corners_coords = list()\n",
    "for point in transformer.itransform([previous_upper_left_corner_coords, previous_lower_right_corner_coords]):\n",
    "    coords = '{} {}'.format(*point)\n",
    "    x = coords.split(' ')[0]\n",
    "    y = coords.split(' ')[1]\n",
    "    corners_coords.append((x, y))\n",
    "new_upper_left_corner_coords = corners_coords[0]\n",
    "new_lower_right_corner_coords = corners_coords[1]\n",
    "\n",
    "print(new_upper_left_corner_coords, new_lower_right_corner_coords)"
   ]
  },
  {
   "cell_type": "markdown",
   "metadata": {},
   "source": [
    "Visualization of the dataset :"
   ]
  },
  {
   "cell_type": "code",
   "execution_count": 4,
   "metadata": {},
   "outputs": [
    {
     "data": {
      "text/plain": [
       "<matplotlib.image.AxesImage at 0x1d340e1b848>"
      ]
     },
     "execution_count": 4,
     "metadata": {},
     "output_type": "execute_result"
    },
    {
     "data": {
      "image/png": "[encoded data removed]",
      "text/plain": [
       "<Figure size 432x288 with 1 Axes>"
      ]
     },
     "metadata": {
      "needs_background": "light"
     },
     "output_type": "display_data"
    }
   ],
   "source": [
    "labeled_band = dataset.read(1)\n",
    "\n",
    "plt.imshow(labeled_band)"
   ]
  },
  {
   "cell_type": "markdown",
   "metadata": {},
   "source": [
    "We can see that the majority of the data are nodata values !\n",
    "\n",
    "Let's watch on an interactive map to what area corresponds the image : "
   ]
  },
  {
   "cell_type": "code",
   "execution_count": 5,
   "metadata": {
    "scrolled": true
   },
   "outputs": [
    {
     "data": {
      "text/html": [
       "<div style=\"width:100%;\"><div style=\"position:relative;width:100%;height:0;padding-bottom:60%;\"><span style=\"color:#565656\">Make this Notebook Trusted to load map: File -> Trust Notebook</span><iframe src=\"about:blank\" style=\"position:absolute;width:100%;height:100%;left:0;top:0;border:none !important;\" data-html=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 onload=\"this.contentDocument.open();this.contentDocument.write(atob(this.getAttribute('data-html')));this.contentDocument.close();\" allowfullscreen webkitallowfullscreen mozallowfullscreen></iframe></div></div>"
      ],
      "text/plain": [
       "<folium.folium.Map at 0x1d35da5d2c8>"
      ]
     },
     "execution_count": 5,
     "metadata": {},
     "output_type": "execute_result"
    }
   ],
   "source": [
    "# creation of a folium interactive map\n",
    "m = folium.Map(list(new_lower_right_corner_coords),zoom_start = 7, tiles='Stamen Terrain')\n",
    "folium.Marker(list(new_upper_left_corner_coords)).add_to(m)\n",
    "folium.Marker(list(new_lower_right_corner_coords)).add_to(m)\n",
    "m"
   ]
  },
  {
   "cell_type": "markdown",
   "metadata": {},
   "source": [
    "Transformation of the labelled band into a DataFrame in order to ease the manipulation. We also drop the label nodata values : "
   ]
  },
  {
   "cell_type": "code",
   "execution_count": 6,
   "metadata": {
    "scrolled": true
   },
   "outputs": [
    {
     "name": "stdout",
     "output_type": "stream",
     "text": [
      "Reduction coefficient :369.37415553737696\n"
     ]
    }
   ],
   "source": [
    "reduced_label_band_df = pd.DataFrame(labeled_band.ravel()).replace(4294967295, pd.NA)\n",
    "previous_label_band_size = reduced_label_band_df.shape\n",
    "\n",
    "# this is the key step where we drop nodata values\n",
    "reduced_label_band_df = reduced_label_band_df.dropna().rename(columns = {0: 'label'})\n",
    "new_label_band_size = reduced_label_band_df.shape\n",
    "\n",
    "reduced_label_band_df['label'] = reduced_label_band_df['label'].astype(int)\n",
    "\n",
    "print('Reduction coefficient :' + str(previous_label_band_size[0]/new_label_band_size[0]))"
   ]
  },
  {
   "cell_type": "markdown",
   "metadata": {},
   "source": [
    "We just divided by almost 400 the size of our dataset !!!\n",
    "It will be a lot more convenient to work with this size-reduced data for the machine learning process"
   ]
  },
  {
   "cell_type": "markdown",
   "metadata": {},
   "source": [
    "Concatenation of the labeled layer and the 15 bands of the dataset, by projecting the bands where the labeled data is not null : "
   ]
  },
  {
   "cell_type": "code",
   "execution_count": 7,
   "metadata": {
    "scrolled": true
   },
   "outputs": [
    {
     "name": "stdout",
     "output_type": "stream",
     "text": [
      "        previous_index  label  AOT   B01   B02   B03   B04   B05   B06   B07  \\\n",
      "0               350913      3   69   360   391   640   735  1274  1954  2300   \n",
      "1               354514      0   70  2347  2302  2674  2778  3944  4185  3975   \n",
      "2               354515      0   70  2347  4328  4272  4220  3944  4185  3975   \n",
      "3               354516      0   70  3878  4316  4564  4728  5445  5242  5489   \n",
      "4               354517      0   70  3878  4460  4400  4792  5445  5242  5489   \n",
      "...                ...    ...  ...   ...   ...   ...   ...   ...   ...   ...   \n",
      "326386       120332403      4   70   264   236   466   263   702  2844  3513   \n",
      "326387       120409747      3   70   589   322   462   473  1077  1570  1836   \n",
      "326388       120420734      3   70   760   713   939   991  1288  1654  1832   \n",
      "326389       120464649      3   70   768   517   576   686  1084  1603  1857   \n",
      "326390       120519538      3   70   442   329   530   438   949  1697  1891   \n",
      "\n",
      "         B08   B09   B11   B12   B8A  SCL   WVP  \n",
      "0       2374  2620  2853  1803  2566    4  2728  \n",
      "1       2784  2979  3758  2708  3884    9  2241  \n",
      "2       4220  2979  3758  2708  3884    9  2241  \n",
      "3       4500  3836  4589  2917  5310    9  2518  \n",
      "4       4600  3836  4589  2917  5310    9  2518  \n",
      "...      ...   ...   ...   ...   ...  ...   ...  \n",
      "326386  3340  3834  1826   835  3809    4  2664  \n",
      "326387  1596  1835  1815  1329  1947    4  2520  \n",
      "326388  1780  1812  1817  1621  1801    5  2423  \n",
      "326389  2064  2022  2193  1752  1983    5  2584  \n",
      "326390  1992  1924  1891  1408  2117    4  2613  \n",
      "\n",
      "[326391 rows x 17 columns]\n",
      "['AOT', 'B01', 'B02', 'B03', 'B04', 'B05', 'B06', 'B07', 'B08', 'B09', 'B11', 'B12', 'B8A', 'SCL', 'WVP']\n"
     ]
    }
   ],
   "source": [
    "bands_folder_path = 'S2_17SLD_2019-09-15_masked_warped'\n",
    "\n",
    "band_paths = [os.path.join(bands_folder_path, my_file)\n",
    "              for my_file in os.listdir(bands_folder_path)\n",
    "              if os.path.isfile(os.path.join(bands_folder_path, my_file))]\n",
    "\n",
    "bands_names = list()\n",
    "final_dataset_df = reduced_label_band_df\n",
    "for band_number in range(len(band_paths)):\n",
    "    with rasterio.open(band_paths[band_number]) as band_dataset:\n",
    "        band = band_dataset.read(1)\n",
    "        ravelled_band = band.ravel()\n",
    "        band_df = pd.DataFrame(ravelled_band).rename(columns = {0: '{}'.format(band_paths[band_number].split('\\\\')[1].split('_')[2])})\n",
    "        bands_names.append(band_paths[band_number].split('\\\\')[1].split('_')[2])\n",
    "        \n",
    "        final_dataset_df = pd.concat([final_dataset_df, band_df.reindex(final_dataset_df.index)], axis = 1)\n",
    "        band_dataset.close()\n",
    "final_dataset_df = final_dataset_df.reset_index().rename(columns = {'index': 'previous_index'})\n",
    "print(final_dataset_df)\n",
    "print(bands_names)"
   ]
  },
  {
   "cell_type": "markdown",
   "metadata": {},
   "source": [
    "Reindexing and add of a label mapping in order to improve readibility of the dataset :\n",
    "\n",
    "I used the [European Space Agency documentation](https://sentinel.esa.int/web/sentinel/user-guides/sentinel-2-msi/resolutions/spatial) to translate the titles of the TIF files provided into scientific features :"
   ]
  },
  {
   "cell_type": "code",
   "execution_count": 8,
   "metadata": {},
   "outputs": [
    {
     "data": {
      "text/html": [
       "<div>\n",
       "<style scoped>\n",
       "    .dataframe tbody tr th:only-of-type {\n",
       "        vertical-align: middle;\n",
       "    }\n",
       "\n",
       "    .dataframe tbody tr th {\n",
       "        vertical-align: top;\n",
       "    }\n",
       "\n",
       "    .dataframe thead th {\n",
       "        text-align: right;\n",
       "    }\n",
       "</style>\n",
       "<table border=\"1\" class=\"dataframe\">\n",
       "  <thead>\n",
       "    <tr style=\"text-align: right;\">\n",
       "      <th></th>\n",
       "      <th>previous_index</th>\n",
       "      <th>label</th>\n",
       "      <th>AOT</th>\n",
       "      <th>coastal_aerosol</th>\n",
       "      <th>blue</th>\n",
       "      <th>green</th>\n",
       "      <th>red</th>\n",
       "      <th>IR_705nm</th>\n",
       "      <th>IR_740nm</th>\n",
       "      <th>IR_783nm</th>\n",
       "      <th>IR_842nm</th>\n",
       "      <th>water_vapour</th>\n",
       "      <th>SWIR_1610nm</th>\n",
       "      <th>SWIR_2190nm</th>\n",
       "      <th>IR_865nm</th>\n",
       "      <th>SCL</th>\n",
       "      <th>WVP</th>\n",
       "      <th>label</th>\n",
       "    </tr>\n",
       "  </thead>\n",
       "  <tbody>\n",
       "    <tr>\n",
       "      <th>0</th>\n",
       "      <td>350913</td>\n",
       "      <td>3</td>\n",
       "      <td>69</td>\n",
       "      <td>360</td>\n",
       "      <td>391</td>\n",
       "      <td>640</td>\n",
       "      <td>735</td>\n",
       "      <td>1274</td>\n",
       "      <td>1954</td>\n",
       "      <td>2300</td>\n",
       "      <td>2374</td>\n",
       "      <td>2620</td>\n",
       "      <td>2853</td>\n",
       "      <td>1803</td>\n",
       "      <td>2566</td>\n",
       "      <td>4</td>\n",
       "      <td>2728</td>\n",
       "      <td>single tree</td>\n",
       "    </tr>\n",
       "    <tr>\n",
       "      <th>1</th>\n",
       "      <td>354514</td>\n",
       "      <td>0</td>\n",
       "      <td>70</td>\n",
       "      <td>2347</td>\n",
       "      <td>2302</td>\n",
       "      <td>2674</td>\n",
       "      <td>2778</td>\n",
       "      <td>3944</td>\n",
       "      <td>4185</td>\n",
       "      <td>3975</td>\n",
       "      <td>2784</td>\n",
       "      <td>2979</td>\n",
       "      <td>3758</td>\n",
       "      <td>2708</td>\n",
       "      <td>3884</td>\n",
       "      <td>9</td>\n",
       "      <td>2241</td>\n",
       "      <td>urban</td>\n",
       "    </tr>\n",
       "    <tr>\n",
       "      <th>2</th>\n",
       "      <td>354515</td>\n",
       "      <td>0</td>\n",
       "      <td>70</td>\n",
       "      <td>2347</td>\n",
       "      <td>4328</td>\n",
       "      <td>4272</td>\n",
       "      <td>4220</td>\n",
       "      <td>3944</td>\n",
       "      <td>4185</td>\n",
       "      <td>3975</td>\n",
       "      <td>4220</td>\n",
       "      <td>2979</td>\n",
       "      <td>3758</td>\n",
       "      <td>2708</td>\n",
       "      <td>3884</td>\n",
       "      <td>9</td>\n",
       "      <td>2241</td>\n",
       "      <td>urban</td>\n",
       "    </tr>\n",
       "    <tr>\n",
       "      <th>3</th>\n",
       "      <td>354516</td>\n",
       "      <td>0</td>\n",
       "      <td>70</td>\n",
       "      <td>3878</td>\n",
       "      <td>4316</td>\n",
       "      <td>4564</td>\n",
       "      <td>4728</td>\n",
       "      <td>5445</td>\n",
       "      <td>5242</td>\n",
       "      <td>5489</td>\n",
       "      <td>4500</td>\n",
       "      <td>3836</td>\n",
       "      <td>4589</td>\n",
       "      <td>2917</td>\n",
       "      <td>5310</td>\n",
       "      <td>9</td>\n",
       "      <td>2518</td>\n",
       "      <td>urban</td>\n",
       "    </tr>\n",
       "    <tr>\n",
       "      <th>4</th>\n",
       "      <td>354517</td>\n",
       "      <td>0</td>\n",
       "      <td>70</td>\n",
       "      <td>3878</td>\n",
       "      <td>4460</td>\n",
       "      <td>4400</td>\n",
       "      <td>4792</td>\n",
       "      <td>5445</td>\n",
       "      <td>5242</td>\n",
       "      <td>5489</td>\n",
       "      <td>4600</td>\n",
       "      <td>3836</td>\n",
       "      <td>4589</td>\n",
       "      <td>2917</td>\n",
       "      <td>5310</td>\n",
       "      <td>9</td>\n",
       "      <td>2518</td>\n",
       "      <td>urban</td>\n",
       "    </tr>\n",
       "  </tbody>\n",
       "</table>\n",
       "</div>"
      ],
      "text/plain": [
       "   previous_index label  AOT  coastal_aerosol  blue  green   red  IR_705nm  \\\n",
       "0          350913     3   69              360   391    640   735      1274   \n",
       "1          354514     0   70             2347  2302   2674  2778      3944   \n",
       "2          354515     0   70             2347  4328   4272  4220      3944   \n",
       "3          354516     0   70             3878  4316   4564  4728      5445   \n",
       "4          354517     0   70             3878  4460   4400  4792      5445   \n",
       "\n",
       "   IR_740nm  IR_783nm  IR_842nm  water_vapour  SWIR_1610nm  SWIR_2190nm  \\\n",
       "0      1954      2300      2374          2620         2853         1803   \n",
       "1      4185      3975      2784          2979         3758         2708   \n",
       "2      4185      3975      4220          2979         3758         2708   \n",
       "3      5242      5489      4500          3836         4589         2917   \n",
       "4      5242      5489      4600          3836         4589         2917   \n",
       "\n",
       "   IR_865nm  SCL   WVP        label  \n",
       "0      2566    4  2728  single tree  \n",
       "1      3884    9  2241        urban  \n",
       "2      3884    9  2241        urban  \n",
       "3      5310    9  2518        urban  \n",
       "4      5310    9  2518        urban  "
      ]
     },
     "execution_count": 8,
     "metadata": {},
     "output_type": "execute_result"
    }
   ],
   "source": [
    "# translation of the columns title with a mapping dictionnary\n",
    "bands_meaning = ['AOT',\n",
    "                 'coastal_aerosol',\n",
    "                 'blue',\n",
    "                 'green',\n",
    "                 'red',\n",
    "                 'IR_705nm',\n",
    "                 'IR_740nm',\n",
    "                 'IR_783nm',\n",
    "                 'IR_842nm',\n",
    "                 'water_vapour',\n",
    "                 'SWIR_1610nm',\n",
    "                 'SWIR_2190nm',\n",
    "                 'IR_865nm',\n",
    "                 'SCL',\n",
    "                 'WVP']\n",
    "bands_meaning_mapping = {bands_names[i]: bands_meaning[i] for i in range(len(bands_names))}\n",
    "final_dataset_df = final_dataset_df.rename(columns = bands_meaning_mapping)\n",
    "\n",
    "# TODO : peut-être mettre colonne coordonées (x, y) : par exemple on pourrait transformer l'index en multiIndex\n",
    "\n",
    "#insertion of the label_meaning column\n",
    "label_mapping = {0: 'urban', 1: 'treerow', 2: 'forest', 3: 'single tree', 4: 'agriculture', 5: 'grassland', 6: 'water'}\n",
    "label_meaning_df = final_dataset_df['label'].replace(label_mapping)\n",
    "\n",
    "pd.concat([final_dataset_df, label_meaning_df], axis = 1).head()"
   ]
  },
  {
   "cell_type": "markdown",
   "metadata": {},
   "source": [
    "Storing of the final dataset into a csv :"
   ]
  },
  {
   "cell_type": "code",
   "execution_count": 9,
   "metadata": {},
   "outputs": [],
   "source": [
    "final_dataset_df.to_csv('final_dataset.csv',  index = False)"
   ]
  },
  {
   "cell_type": "markdown",
   "metadata": {},
   "source": [
    "**CHECKPOINT** : To this point, we don't need to execute the code above anymore : the dataset is definitly stored in the file 'final_dataset.csv'. However, if we restart the kernel, we will still need to execute the first bloc of imports before continuing to execute the Model Training part."
   ]
  },
  {
   "cell_type": "markdown",
   "metadata": {},
   "source": [
    "## 2. Classifier Training"
   ]
  },
  {
   "cell_type": "markdown",
   "metadata": {},
   "source": [
    "We split the dataset into train and test data : 80% for the training data and 20% for the testing one.\n",
    "\n",
    "Furthermore, as long as we want to predict a class (survived or not), we will use a Classifier model. It chose here to use a RandomForestClassifier."
   ]
  },
  {
   "cell_type": "code",
   "execution_count": 10,
   "metadata": {},
   "outputs": [
    {
     "ename": "NameError",
     "evalue": "name 'train_prediction_target' is not defined",
     "output_type": "error",
     "traceback": [
      "\u001b[1;31m---------------------------------------------------------------------------\u001b[0m",
      "\u001b[1;31mNameError\u001b[0m                                 Traceback (most recent call last)",
      "\u001b[1;32m<ipython-input-10-d29207c29cb4>\u001b[0m in \u001b[0;36m<module>\u001b[1;34m\u001b[0m\n\u001b[0;32m      8\u001b[0m \u001b[1;31m# classifier training\u001b[0m\u001b[1;33m\u001b[0m\u001b[1;33m\u001b[0m\u001b[1;33m\u001b[0m\u001b[0m\n\u001b[0;32m      9\u001b[0m \u001b[0mmodel1\u001b[0m \u001b[1;33m=\u001b[0m \u001b[0mRandomForestClassifier\u001b[0m\u001b[1;33m(\u001b[0m\u001b[0mrandom_state\u001b[0m \u001b[1;33m=\u001b[0m \u001b[1;36m1\u001b[0m\u001b[1;33m)\u001b[0m\u001b[1;33m\u001b[0m\u001b[1;33m\u001b[0m\u001b[0m\n\u001b[1;32m---> 10\u001b[1;33m \u001b[0mmodel1\u001b[0m\u001b[1;33m.\u001b[0m\u001b[0mfit\u001b[0m\u001b[1;33m(\u001b[0m\u001b[0mtrain_data1\u001b[0m\u001b[1;33m,\u001b[0m \u001b[0mtrain_prediction_target\u001b[0m\u001b[1;33m)\u001b[0m\u001b[1;33m\u001b[0m\u001b[1;33m\u001b[0m\u001b[0m\n\u001b[0m\u001b[0;32m     11\u001b[0m \u001b[0mpredictions1\u001b[0m \u001b[1;33m=\u001b[0m \u001b[0mmodel\u001b[0m\u001b[1;33m.\u001b[0m\u001b[0mpredict\u001b[0m\u001b[1;33m(\u001b[0m\u001b[0mtest_data1\u001b[0m\u001b[1;33m)\u001b[0m\u001b[1;33m\u001b[0m\u001b[1;33m\u001b[0m\u001b[0m\n\u001b[0;32m     12\u001b[0m \u001b[1;33m\u001b[0m\u001b[0m\n",
      "\u001b[1;31mNameError\u001b[0m: name 'train_prediction_target' is not defined"
     ]
    }
   ],
   "source": [
    "final_dataset_df = pd.read_csv('final_dataset.csv')\n",
    "\n",
    "# split of the dataset\n",
    "prediction_target = final_dataset_df['label']\n",
    "X1 = final_dataset_df.drop(columns = ['label', 'previous_index'])\n",
    "train_data1, test_data1, train_prediction_target1, test_prediction_target1 = train_test_split(X1, prediction_target, train_size = 0.8, random_state = 1)\n",
    "\n",
    "# classifier training\n",
    "model1 = RandomForestClassifier(random_state = 1)\n",
    "model1.fit(train_data1, train_prediction_target)\n",
    "predictions1 = model.predict(test_data1)\n",
    "\n",
    "# evaluation of the classifier\n",
    "confusion_mtrx_1 = confusion_matrix(test_prediction_target1, predictions1)\n",
    "class_report_1 = classification_report(test_prediction_target1, predictions1, zero_division = True)"
   ]
  },
  {
   "cell_type": "code",
   "execution_count": null,
   "metadata": {
    "scrolled": false
   },
   "outputs": [],
   "source": [
    "# smooth plot of the confusion matrix\n",
    "label_mapping = {0: 'urban', 1: 'treerow', 2: 'forest', 3: 'single tree', 4: 'agriculture', 5: 'grassland', 6: 'water'}\n",
    "skplt.metrics.plot_confusion_matrix(\n",
    "    test_prediction_target1.replace(label_mapping), \n",
    "    pd.DataFrame(predictions1).replace(label_mapping),\n",
    "    figsize = (10, 10),\n",
    "    title = 'Label confusion matrix',\n",
    "    x_tick_rotation = 45,\n",
    "    cmap = 'Greens')\n",
    "\n",
    "print(class_report_1)"
   ]
  },
  {
   "cell_type": "markdown",
   "metadata": {},
   "source": [
    "Improvement of the model :\n",
    "\n",
    "We squash the 3 RGB layers into a unique grayscale layer :"
   ]
  },
  {
   "cell_type": "code",
   "execution_count": null,
   "metadata": {},
   "outputs": [],
   "source": [
    "final_dataset_df = pd.read_csv('final_dataset.csv')\n",
    "\n",
    "# creation of the grayscale column\n",
    "# the weights are respectively for : red, green, blue\n",
    "# B02 = red, B03 = green, B04 = blue\n",
    "rgb_weights = [0.2989, 0.5870, 0.1140]\n",
    "rgb_df = pd.concat([final_dataset_df['B04'], final_dataset_df['B03'], final_dataset_df['B02']], axis = 1)\n",
    "grayscale_df = rgb_df.dot(rgb_weights)\n",
    "grayscale_df = grayscale_df.map(np.round).astype(int)\n",
    "final_dataset_df['grayscale'] = grayscale_df\n",
    "\n",
    "# split of the dataset\n",
    "prediction_target = final_dataset_df['label']\n",
    "X2 = final_dataset_df.drop(columns = ['label', 'B02', 'B03', 'B04'])\n",
    "train_data2, test_data2, train_prediction_target2, test_prediction_target2 = train_test_split(X2, prediction_target, train_size = 0.8, random_state = 1)\n",
    "\n",
    "# classifier training\n",
    "model2 = RandomForestClassifier(random_state = 1)\n",
    "model2.fit(train_data2, train_prediction_target2)\n",
    "predictions2 = model2.predict(test_data2)\n",
    "\n",
    "# evaluation of the classifier :\n",
    "confusion_mtrx_2 = confusion_matrix(test_prediction_target2, predictions2)\n",
    "class_report_2 = classification_report(test_prediction_target2, predictions2, zero_division = True"
   ]
  },
  {
   "cell_type": "code",
   "execution_count": null,
   "metadata": {},
   "outputs": [],
   "source": [
    "# smooth plot of the confusion matrix\n",
    "label_mapping = {0: 'urban', 1: 'treerow', 2: 'forest', 3: 'single tree', 4: 'agriculture', 5: 'grassland', 6: 'water'}\n",
    "skplt.metrics.plot_confusion_matrix(\n",
    "    test_prediction_target.replace(label_mapping), \n",
    "    pd.DataFrame(predictions).replace(label_mapping),\n",
    "    figsize = (10, 10),\n",
    "    title = 'Label confusion matrix',\n",
    "    x_tick_rotation = 45,\n",
    "    cmap = 'Greens')\n",
    "\n",
    "print(class_report_2)"
   ]
  },
  {
   "cell_type": "markdown",
   "metadata": {},
   "source": [
    "## 3. Model accuracy & limits"
   ]
  },
  {
   "cell_type": "markdown",
   "metadata": {},
   "source": [
    "Using the f1-score metric, we see that we won 3 points on the "
   ]
  },
  {
   "cell_type": "markdown",
   "metadata": {},
   "source": [
    "### Limits"
   ]
  },
  {
   "cell_type": "markdown",
   "metadata": {},
   "source": [
    "The Random Forest model is pretty bad at detecting single tree and tree row. An explanation to this behaviours is that the model should be able to **detect the nature of the direct neighbours of a pixel** in order to see if there are trees around or not.\n",
    "It would allow to distinguish single tree and tree row from forest label."
   ]
  }
 ],
 "metadata": {
  "kernelspec": {
   "display_name": "Python 3",
   "language": "python",
   "name": "python3"
  },
  "language_info": {
   "codemirror_mode": {
    "name": "ipython",
    "version": 3
   },
   "file_extension": ".py",
   "mimetype": "text/x-python",
   "name": "python",
   "nbconvert_exporter": "python",
   "pygments_lexer": "ipython3",
   "version": "3.7.6"
  }
 },
 "nbformat": 4,
 "nbformat_minor": 4
}
