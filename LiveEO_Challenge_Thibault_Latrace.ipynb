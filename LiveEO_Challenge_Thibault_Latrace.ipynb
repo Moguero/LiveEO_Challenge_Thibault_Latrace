{
 "cells": [
  {
   "cell_type": "markdown",
   "metadata": {},
   "source": [
    "# LiveEO Data Science Challenge - Thibault Latrace"
   ]
  },
  {
   "cell_type": "markdown",
   "metadata": {},
   "source": [
    "Import of the libraries that will be used in the study :"
   ]
  },
  {
   "cell_type": "code",
   "execution_count": 81,
   "metadata": {},
   "outputs": [],
   "source": [
    "import rasterio\n",
    "import matplotlib.pyplot as plt\n",
    "import numpy as np\n",
    "import pandas as pd\n",
    "import os"
   ]
  },
  {
   "cell_type": "markdown",
   "metadata": {},
   "source": [
    "Exploration of the labeled dataset metadata :"
   ]
  },
  {
   "cell_type": "code",
   "execution_count": 48,
   "metadata": {},
   "outputs": [
    {
     "name": "stdout",
     "output_type": "stream",
     "text": [
      "{'driver': 'GTiff', 'dtype': 'uint32', 'nodata': 4294967295.0, 'width': 10980, 'height': 10980, 'count': 2, 'crs': CRS.from_epsg(32617), 'transform': Affine(10.0, 0.0, 300000.0,\n",
      "       0.0, -10.0, 4400040.0)}\n"
     ]
    }
   ],
   "source": [
    "dataset = rasterio.open('rasterize_on_sentinel_2_labelled_17SLD.tif')\n",
    "\n",
    "print(dataset.meta)\n",
    "\n",
    "# Outputs :\n",
    "\n",
    "# crs : EPSG 32617 --> referencing the UTM zone 17N\n",
    "# shape : (10980, 10980)\n",
    "# dtype : uint32\n",
    "# number of bands : 2 --> only the first one will be used"
   ]
  },
  {
   "cell_type": "markdown",
   "metadata": {},
   "source": [
    "Visualization of the dataset :"
   ]
  },
  {
   "cell_type": "code",
   "execution_count": 50,
   "metadata": {},
   "outputs": [
    {
     "data": {
      "text/plain": [
       "<matplotlib.image.AxesImage at 0x1c145b7b188>"
      ]
     },
     "execution_count": 50,
     "metadata": {},
     "output_type": "execute_result"
    },
    {
     "data": {
      "image/png": "[encoded data removed]",
      "text/plain": [
       "<Figure size 432x288 with 1 Axes>"
      ]
     },
     "metadata": {
      "needs_background": "light"
     },
     "output_type": "display_data"
    }
   ],
   "source": [
    "labeled_band = dataset.read(1)\n",
    "\n",
    "plt.imshow(labeled_band)\n",
    "\n",
    "# It seems like a satellite image of islands\n",
    "\n",
    "# TODO : translate the coordinates of the TIF file into Mercator coordinates to visualize it on Google"
   ]
  },
  {
   "cell_type": "markdown",
   "metadata": {},
   "source": [
    "Transformation of the labelled band into a DataFrame in order to ease the manipulation:"
   ]
  },
  {
   "cell_type": "code",
   "execution_count": 57,
   "metadata": {},
   "outputs": [],
   "source": [
    "ravelled_label_band = labeled_band.ravel()\n",
    "\n",
    "label_band_df = pd.DataFrame(ravelled_label_band)\n",
    "\n",
    "label_band_df = label_band_df.replace(4294967295, np.nan)\n",
    "\n",
    "previous_label_band_size = label_band_df.shape"
   ]
  },
  {
   "cell_type": "markdown",
   "metadata": {},
   "source": [
    "Drop of the label nodata values :"
   ]
  },
  {
   "cell_type": "code",
   "execution_count": 101,
   "metadata": {},
   "outputs": [
    {
     "name": "stdout",
     "output_type": "stream",
     "text": [
      "369.37415553737696\n"
     ]
    }
   ],
   "source": [
    "reduced_label_band_df = label_band_df.dropna().rename(columns = {0: 'label'})\n",
    "\n",
    "new_label_band_size = reduced_label_band_df.shape\n",
    "\n",
    "print(previous_label_band_size[0]/new_label_band_size[0])\n",
    "\n",
    "# Output : 369.37415553737696\n",
    "\n",
    "# We just divided by almost 400 the size of our dataset !!!\n",
    "# It will be a lot more convenient to work with this size-reduced data for the machine learning process"
   ]
  },
  {
   "cell_type": "markdown",
   "metadata": {},
   "source": [
    "Concatenation of the labeled layer and the first band of the dataset, by projecting the band where the labeled data is not null : "
   ]
  },
  {
   "cell_type": "code",
   "execution_count": null,
   "metadata": {},
   "outputs": [],
   "source": [
    "bands_folder_path = 'S2_17SLD_2019-09-15_masked_warped'\n",
    "\n",
    "band_paths = [os.path.join(bands_folder_path, my_file)\n",
    "              for my_file in os.listdir(bands_folder_path)\n",
    "              if os.path.isfile(os.path.join(bands_folder_path, my_file))]\n",
    "\n",
    "final_dataset = reduced_label_band_df\n",
    "for band_number in range(len(band_paths)):\n",
    "    with rasterio.open(band_paths[band_number]) as band_dataset:\n",
    "        band = band_dataset.read(1)\n",
    "        ravelled_band = band.ravel()\n",
    "        band_df = pd.DataFrame(ravelled_band).rename({0: f'band {band_number}'})\n",
    "        \n",
    "        final_dataset = pd.concat([final_dataset, band_df.reindex(final_dataset.index)], axis = 1)\n",
    "        band_dataset.close()\n",
    "        print(final_dataset)"
   ]
  }
 ],
 "metadata": {
  "kernelspec": {
   "display_name": "Python 3",
   "language": "python",
   "name": "python3"
  },
  "language_info": {
   "codemirror_mode": {
    "name": "ipython",
    "version": 3
   },
   "file_extension": ".py",
   "mimetype": "text/x-python",
   "name": "python",
   "nbconvert_exporter": "python",
   "pygments_lexer": "ipython3",
   "version": "3.7.6"
  }
 },
 "nbformat": 4,
 "nbformat_minor": 4
}
